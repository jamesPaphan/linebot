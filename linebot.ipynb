{
  "nbformat": 4,
  "nbformat_minor": 0,
  "metadata": {
    "colab": {
      "name": "linebot.ipynb",
      "version": "0.3.2",
      "provenance": [],
      "include_colab_link": true
    },
    "kernelspec": {
      "name": "python3",
      "display_name": "Python 3"
    }
  },
  "cells": [
    {
      "cell_type": "markdown",
      "metadata": {
        "id": "view-in-github",
        "colab_type": "text"
      },
      "source": [
        "<a href=\"https://colab.research.google.com/github/jamesPaphan/linebot/blob/master/linebot.ipynb\" target=\"_parent\"><img src=\"https://colab.research.google.com/assets/colab-badge.svg\" alt=\"Open In Colab\"/></a>"
      ]
    },
    {
      "metadata": {
        "id": "ohhg4Si-liko",
        "colab_type": "code",
        "outputId": "a734f25c-abfa-4f63-c7ff-8a74508ddbe1",
        "colab": {
          "base_uri": "https://localhost:8080/",
          "height": 237
        }
      },
      "cell_type": "code",
      "source": [
        "!pip install line-bot-sdk"
      ],
      "execution_count": 0,
      "outputs": [
        {
          "output_type": "stream",
          "text": [
            "Collecting line-bot-sdk\n",
            "\u001b[?25l  Downloading https://files.pythonhosted.org/packages/92/05/af3c243548080096b2370d749e8859977dd2ee994a8cf2a420c3f1d33ca2/line_bot_sdk-1.8.0-py2.py3-none-any.whl (44kB)\n",
            "\u001b[K    100% |████████████████████████████████| 51kB 3.5MB/s \n",
            "\u001b[?25hRequirement already satisfied: requests>=2.0 in /usr/local/lib/python3.6/dist-packages (from line-bot-sdk) (2.18.4)\n",
            "Requirement already satisfied: future in /usr/local/lib/python3.6/dist-packages (from line-bot-sdk) (0.16.0)\n",
            "Requirement already satisfied: chardet<3.1.0,>=3.0.2 in /usr/local/lib/python3.6/dist-packages (from requests>=2.0->line-bot-sdk) (3.0.4)\n",
            "Requirement already satisfied: certifi>=2017.4.17 in /usr/local/lib/python3.6/dist-packages (from requests>=2.0->line-bot-sdk) (2018.10.15)\n",
            "Requirement already satisfied: urllib3<1.23,>=1.21.1 in /usr/local/lib/python3.6/dist-packages (from requests>=2.0->line-bot-sdk) (1.22)\n",
            "Requirement already satisfied: idna<2.7,>=2.5 in /usr/local/lib/python3.6/dist-packages (from requests>=2.0->line-bot-sdk) (2.6)\n",
            "Installing collected packages: line-bot-sdk\n",
            "Successfully installed line-bot-sdk-1.8.0\n"
          ],
          "name": "stdout"
        }
      ]
    },
    {
      "metadata": {
        "id": "DeEuSZTqlno7",
        "colab_type": "code",
        "colab": {
          "base_uri": "https://localhost:8080/",
          "height": 134
        },
        "outputId": "c1595157-7986-42b0-cc02-0c6475406e19"
      },
      "cell_type": "code",
      "source": [
        "!git clone https://github.com/jamesPaphan/linebot.git\n",
        "%cd linebot"
      ],
      "execution_count": 5,
      "outputs": [
        {
          "output_type": "stream",
          "text": [
            "Cloning into 'linebot'...\n",
            "remote: Enumerating objects: 9, done.\u001b[K\n",
            "remote: Counting objects: 100% (9/9), done.\u001b[K\n",
            "remote: Compressing objects: 100% (3/3), done.\u001b[K\n",
            "remote: Total 9 (delta 0), reused 0 (delta 0), pack-reused 0\u001b[K\n",
            "Unpacking objects: 100% (9/9), done.\n",
            "/content/linebot\n"
          ],
          "name": "stdout"
        }
      ]
    },
    {
      "metadata": {
        "id": "rYn-pTYN0JAN",
        "colab_type": "code",
        "colab": {
          "base_uri": "https://localhost:8080/",
          "height": 185
        },
        "outputId": "4e0aacf2-3fd9-43f8-d7c0-6e4d8b4221c3"
      },
      "cell_type": "code",
      "source": [
        "!git config --global user.email \"paphan.c@ku.th\"\n",
        "!git config --global user.name \"jamesPaphan\"\n",
        "!git config --list"
      ],
      "execution_count": 11,
      "outputs": [
        {
          "output_type": "stream",
          "text": [
            "user.email=paphan.c@ku.th\n",
            "user.name=jamesPaphan\n",
            "core.repositoryformatversion=0\n",
            "core.filemode=true\n",
            "core.bare=false\n",
            "core.logallrefupdates=true\n",
            "remote.origin.url=https://github.com/jamesPaphan/linebot.git\n",
            "remote.origin.fetch=+refs/heads/*:refs/remotes/origin/*\n",
            "branch.master.remote=origin\n",
            "branch.master.merge=refs/heads/master\n"
          ],
          "name": "stdout"
        }
      ]
    },
    {
      "metadata": {
        "id": "gW8EXfcJuTyJ",
        "colab_type": "code",
        "colab": {
          "base_uri": "https://localhost:8080/",
          "height": 67
        },
        "outputId": "49ce5a57-c4bc-4ab5-b098-0589121c6479"
      },
      "cell_type": "code",
      "source": [
        "!echo hello > hello.txt\n",
        "!git add hello.txt\n",
        "!git commit -m \"Commit message\""
      ],
      "execution_count": 7,
      "outputs": [
        {
          "output_type": "stream",
          "text": [
            "[master b3a6d06] Commit message\n",
            " 1 file changed, 1 insertion(+)\n",
            " create mode 100644 hello.txt\n"
          ],
          "name": "stdout"
        }
      ]
    },
    {
      "metadata": {
        "id": "vDBpU9947hh3",
        "colab_type": "code",
        "colab": {
          "base_uri": "https://localhost:8080/",
          "height": 34
        },
        "outputId": "6b2487db-1ad0-4aa0-fcd8-cdac0aaa15df"
      },
      "cell_type": "code",
      "source": [
        "!git push origin master"
      ],
      "execution_count": 12,
      "outputs": [
        {
          "output_type": "stream",
          "text": [
            "fatal: could not read Username for 'https://github.com': No such device or address\n"
          ],
          "name": "stdout"
        }
      ]
    },
    {
      "metadata": {
        "id": "Azh6JW5SE1I5",
        "colab_type": "code",
        "colab": {}
      },
      "cell_type": "code",
      "source": [
        "!git remote set-url origin https://github.com/jamesPaphan/linebot.git"
      ],
      "execution_count": 0,
      "outputs": []
    },
    {
      "metadata": {
        "id": "J4mC2xARpQVw",
        "colab_type": "code",
        "colab": {}
      },
      "cell_type": "code",
      "source": [
        "import os\n",
        "os.environ['LINE_CHANNEL_SECRET'] = \"65348d8c44aebcb7219fb72173948348\"\n",
        "os.environ['LINE_CHANNEL_ACCESS_TOKEN'] = \"s//zcdFrDph+6ez1oNhNL2Bz72L81N5MboXcT+6ntt2FEjHCTfg+3fliwWAcrb9hQaRCDiLICDMLkdJ47PymdXLfw0YVJSUZhyQKJ8Tt/PSTlHpCh/PWDd6/4vcSC/F4RtxP+1nSg12z/7NRgPxgsQdB04t89/1O/w1cDnyilFU=\""
      ],
      "execution_count": 0,
      "outputs": []
    },
    {
      "metadata": {
        "id": "C7G9-8pU5-zk",
        "colab_type": "code",
        "colab": {}
      },
      "cell_type": "code",
      "source": [
        ""
      ],
      "execution_count": 0,
      "outputs": []
    }
  ]
}